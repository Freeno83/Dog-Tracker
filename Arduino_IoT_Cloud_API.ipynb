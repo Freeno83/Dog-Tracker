{
  "nbformat": 4,
  "nbformat_minor": 0,
  "metadata": {
    "colab": {
      "name": "Arduino IoT Cloud API.ipynb",
      "provenance": []
    },
    "kernelspec": {
      "name": "python3",
      "display_name": "Python 3"
    }
  },
  "cells": [
    {
      "cell_type": "markdown",
      "metadata": {
        "id": "ezqlAx0Ac7oZ"
      },
      "source": [
        "### Library Imports"
      ]
    },
    {
      "cell_type": "code",
      "metadata": {
        "id": "LpJ8Gys0OBOX"
      },
      "source": [
        "from oauthlib.oauth2 import BackendApplicationClient\n",
        "from requests_oauthlib import OAuth2Session\n",
        "import json"
      ],
      "execution_count": 26,
      "outputs": []
    },
    {
      "cell_type": "markdown",
      "metadata": {
        "id": "Ew2wMwFJdApW"
      },
      "source": [
        "### Credentials and Token"
      ]
    },
    {
      "cell_type": "code",
      "metadata": {
        "id": "rZNqCaiHONFk"
      },
      "source": [
        "CLIENT_ID = \"\"\n",
        "SECRET_ID = \"\"\n",
        "DEVICE_ID = \"\"\n",
        "\n",
        "client = BackendApplicationClient(CLIENT_ID)\n",
        "token_url = \"https://api2.arduino.cc/iot/v1/clients/token\"\n",
        "api_url = \"https://api2.arduino.cc/iot/v2/things\"\n",
        "\n",
        "oauth = OAuth2Session(client=client)\n",
        "token = oauth.fetch_token(\n",
        "    token_url=token_url,\n",
        "    client_id=CLIENT_ID,\n",
        "    client_secret=SECRET_ID,\n",
        "    include_client_id=True,\n",
        "    audience=\"https://api2.arduino.cc/iot\")"
      ],
      "execution_count": 27,
      "outputs": []
    },
    {
      "cell_type": "markdown",
      "metadata": {
        "id": "zZPbvbg4dFn9"
      },
      "source": [
        "### API Call"
      ]
    },
    {
      "cell_type": "code",
      "metadata": {
        "id": "OzzO9WJjORaf",
        "outputId": "c6dbdc9a-57da-48da-c142-3a09ad595a48",
        "colab": {
          "base_uri": "https://localhost:8080/",
          "height": 34
        }
      },
      "source": [
        "payload = {\"accross_user_ids\": True,\n",
        "           \"device_id\": DEVICE_ID,\n",
        "           \"show_properties\": True}\n",
        "\n",
        "r = oauth.get(api_url, params=payload)\n",
        "print(f\"HTTP Code: {r}\")"
      ],
      "execution_count": 28,
      "outputs": [
        {
          "output_type": "stream",
          "text": [
            "HTTP Code: <Response [200]>\n"
          ],
          "name": "stdout"
        }
      ]
    },
    {
      "cell_type": "markdown",
      "metadata": {
        "id": "OTQMPLv2dK_W"
      },
      "source": [
        "### Parse Response"
      ]
    },
    {
      "cell_type": "code",
      "metadata": {
        "id": "VCTt5zQHOX4n",
        "outputId": "d23f5330-5db7-4471-fdbe-18bb9017a21f",
        "colab": {
          "base_uri": "https://localhost:8080/",
          "height": 667
        }
      },
      "source": [
        "data = r.json()\n",
        "print(json.dumps(data, indent=4, sort_keys=True))"
      ],
      "execution_count": 29,
      "outputs": [
        {
          "output_type": "stream",
          "text": [
            "[\n",
            "    {\n",
            "        \"created_at\": \"2020-09-24T01:50:19.555477Z\",\n",
            "        \"device_id\": \"3a7968ba-f2e1-40ac-9f92-9a5fb89db85e\",\n",
            "        \"href\": \"/iot/v1/things/34091f53-a8c6-4265-851f-588297edab06\",\n",
            "        \"id\": \"34091f53-a8c6-4265-851f-588297edab06\",\n",
            "        \"name\": \"gps\",\n",
            "        \"properties\": [\n",
            "            {\n",
            "                \"created_at\": \"2020-09-26T16:50:02.494526Z\",\n",
            "                \"href\": \"/iot/v1/things/34091f53-a8c6-4265-851f-588297edab06/properties/968bd160-6fef-4edd-85a0-44ceecdd1c11\",\n",
            "                \"id\": \"968bd160-6fef-4edd-85a0-44ceecdd1c11\",\n",
            "                \"last_value\": {\n",
            "                    \"lat\": 36.32366180419922,\n",
            "                    \"lon\": -94.23882293701172\n",
            "                },\n",
            "                \"max_value\": 10,\n",
            "                \"name\": \"location\",\n",
            "                \"permission\": \"READ_ONLY\",\n",
            "                \"persist\": true,\n",
            "                \"tag\": 3,\n",
            "                \"thing_id\": \"34091f53-a8c6-4265-851f-588297edab06\",\n",
            "                \"type\": \"LOCATION\",\n",
            "                \"update_parameter\": 0,\n",
            "                \"update_strategy\": \"ON_CHANGE\",\n",
            "                \"updated_at\": \"2020-09-26T19:30:33.548659Z\",\n",
            "                \"value_updated_at\": \"2020-09-27T16:31:24.604Z\",\n",
            "                \"variable_name\": \"location\"\n",
            "            }\n",
            "        ],\n",
            "        \"properties_count\": 1,\n",
            "        \"sketch_id\": \"499a1035-bb0c-4404-b757-d0bf645bc7fb\",\n",
            "        \"updated_at\": \"2020-09-24T01:50:19.555477Z\",\n",
            "        \"user_id\": \"695b7fe5-7973-403a-ae7f-8aa7dc4bdfdc\",\n",
            "        \"webhook_active\": false\n",
            "    }\n",
            "]\n"
          ],
          "name": "stdout"
        }
      ]
    },
    {
      "cell_type": "code",
      "metadata": {
        "id": "h3YJXb0zOqKX",
        "outputId": "b841991f-cc4e-42fe-a825-c791d8d1c18b",
        "colab": {
          "base_uri": "https://localhost:8080/",
          "height": 34
        }
      },
      "source": [
        "for thing in data:\n",
        "  for prop in thing[\"properties\"]:\n",
        "    print(f\"{prop['name']}: {prop['last_value']}\")"
      ],
      "execution_count": 30,
      "outputs": [
        {
          "output_type": "stream",
          "text": [
            "location: {'lat': 36.32366180419922, 'lon': -94.23882293701172}\n"
          ],
          "name": "stdout"
        }
      ]
    },
    {
      "cell_type": "code",
      "metadata": {
        "id": "Zfn5Y7d5dTQg"
      },
      "source": [
        ""
      ],
      "execution_count": null,
      "outputs": []
    }
  ]
}
